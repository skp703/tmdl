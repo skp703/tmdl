{
 "cells": [
  {
   "cell_type": "code",
   "execution_count": 1,
   "metadata": {
    "collapsed": false,
    "run_control": {
     "marked": false
    },
    "scrolled": true
   },
   "outputs": [
    {
     "name": "stdout",
     "output_type": "stream",
     "text": [
      "{\n",
      "  \"control_port\": 53382,\n",
      "  \"shell_port\": 53379,\n",
      "  \"stdin_port\": 53381,\n",
      "  \"key\": \"0b68006c-891a-41f0-a608-051755a25275\",\n",
      "  \"signature_scheme\": \"hmac-sha256\",\n",
      "  \"ip\": \"127.0.0.1\",\n",
      "  \"transport\": \"tcp\",\n",
      "  \"hb_port\": 53383,\n",
      "  \"iopub_port\": 53380\n",
      "}\n",
      "\n",
      "Paste the above JSON into a file, and connect with:\n",
      "    $> ipython <app> --existing <file>\n",
      "or, if you are local, you can connect with just:\n",
      "    $> ipython <app> --existing C:\\Users\\saurav\\AppData\\Roaming\\jupyter\\runtime\\kernel-269fc641-7315-47c9-982b-20beca0d5365.json \n",
      "or even just:\n",
      "    $> ipython <app> --existing \n",
      "if this is the most recent IPython session you have started.\n"
     ]
    },
    {
     "name": "stderr",
     "output_type": "stream",
     "text": [
      "C:\\Users\\saurav\\Anaconda3\\lib\\site-packages\\IPython\\parallel.py:13: ShimWarning: The `IPython.parallel` package has been deprecated. You should import from ipyparallel instead.\n",
      "  \"You should import from ipyparallel instead.\", ShimWarning)\n"
     ]
    }
   ],
   "source": [
    "from matplotlib import pyplot as plt\n",
    "import pandas as pd\n",
    "import numpy as np\n",
    "%connect_info\n",
    "%qtconsole\n",
    "%matplotlib inline\n",
    "plt.style.use('fivethirtyeight')\n"
   ]
  },
  {
   "cell_type": "code",
   "execution_count": 2,
   "metadata": {
    "collapsed": false,
    "run_control": {
     "marked": false
    }
   },
   "outputs": [],
   "source": [
    "df = pd.read_csv(r\"C:\\Users\\saurav\\google drive-VT\\notebooks\\TMDL_model\\TMDL_model.csv\", header=0)"
   ]
  },
  {
   "cell_type": "code",
   "execution_count": 3,
   "metadata": {
    "collapsed": false,
    "run_control": {
     "marked": false
    }
   },
   "outputs": [
    {
     "data": {
      "text/plain": [
       "Index(['Report Link', 'Region', 'Lead State', 'TMDL ID', 'TMDL Name',\n",
       "       'Document Name', 'Document Type', 'TMDL Status', 'TMDL Date',\n",
       "       'Fiscal Year', 'TMDL Type', 'Pollutant', 'Pollutant Group',\n",
       "       'Assessment Unit ID', 'MatchScoreDescending', 'likely_model', 'score1',\n",
       "       'qual', 'qualmatch', 'mike she', 'mike shematch', 'answers',\n",
       "       'answersmatch', 'gwlf', 'gwlfmatch', 'wasp', 'waspmatch', 'warmf',\n",
       "       'warmfmatch', 'spreadsheet', 'spreadsheetmatch', 'swat', 'swatmatch',\n",
       "       'gssha', 'gsshamatch', 'minteq', 'minteqmatch', 'concepts',\n",
       "       'conceptsmatch', 'cequalriv', 'cequalrivmatch', 'agnps', 'agnpsmatch',\n",
       "       'sstemp', 'sstempmatch', 'hec-hms', 'hec-hmsmatch', 'cequalw2',\n",
       "       'cequalw2match', 'oteq', 'oteqmatch', 'stepl', 'steplmatch', 'usle',\n",
       "       'uslematch', 'sustain', 'sustainmatch', 'curve number',\n",
       "       'curve numbermatch', 'efdc', 'efdcmatch', 'cche', 'cchematch',\n",
       "       'kineros', 'kinerosmatch', 'bathub', 'bathubmatch', 'tidal prism',\n",
       "       'tidal prismmatch', 'edp riv1', 'edp riv1match', 'load duration curve',\n",
       "       'load duration curvematch', 'simple method', 'simple methodmatch',\n",
       "       'basins', 'basinsmatch', 'mike 11', 'mike 11match', 'hspf', 'hspfmatch',\n",
       "       'swmm', 'swmmmatch', 'mass balance', 'mass balancematch', 'dwsm',\n",
       "       'dwsmmatch', 'hec ras', 'hec rasmatch', 'validation',\n",
       "       'validation_text'],\n",
       "      dtype='object')"
      ]
     },
     "execution_count": 3,
     "metadata": {},
     "output_type": "execute_result"
    }
   ],
   "source": [
    "df.columns"
   ]
  },
  {
   "cell_type": "code",
   "execution_count": 4,
   "metadata": {
    "collapsed": false,
    "run_control": {
     "marked": false
    }
   },
   "outputs": [],
   "source": [
    "simple_models = ['simple method','mass balance','bathub','sstemp',\n",
    "                 'load duration curve','usle'] \n",
    "watershed_models = ['agnps','answers','dwsm','gssha','gwlf','hec-hms','hspf',\n",
    "                    'kineros','mike she','stepl','swat','swmm','warmf',\n",
    "                    'curve number','sustain','basins']\n",
    "receiving_models = ['cche','cequalriv','cequalw2','concepts','efdc','edp riv1',\n",
    "                  'hec ras','mike 11','minteq','oteq','qual','wasp',\n",
    "                  'tidal prism']\n"
   ]
  },
  {
   "cell_type": "code",
   "execution_count": 5,
   "metadata": {
    "collapsed": false
   },
   "outputs": [
    {
     "data": {
      "text/plain": [
       "['simple method',\n",
       " 'mass balance',\n",
       " 'bathub',\n",
       " 'sstemp',\n",
       " 'load duration curve',\n",
       " 'usle']"
      ]
     },
     "execution_count": 5,
     "metadata": {},
     "output_type": "execute_result"
    }
   ],
   "source": [
    "simple_models"
   ]
  },
  {
   "cell_type": "code",
   "execution_count": null,
   "metadata": {
    "collapsed": true
   },
   "outputs": [],
   "source": []
  }
 ],
 "metadata": {
  "kernelspec": {
   "display_name": "Python 3",
   "language": "python",
   "name": "python3"
  },
  "language_info": {
   "codemirror_mode": {
    "name": "ipython",
    "version": 3
   },
   "file_extension": ".py",
   "mimetype": "text/x-python",
   "name": "python",
   "nbconvert_exporter": "python",
   "pygments_lexer": "ipython3",
   "version": "3.4.3"
  },
  "latex_envs": {
   "bibliofile": "biblio.bib",
   "cite_by": "apalike",
   "current_citInitial": 1,
   "eqLabelWithNumbers": true,
   "eqNumInitial": 0
  }
 },
 "nbformat": 4,
 "nbformat_minor": 0
}
